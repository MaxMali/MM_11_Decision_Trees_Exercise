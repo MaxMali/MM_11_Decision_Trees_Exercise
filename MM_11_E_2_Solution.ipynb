{
 "cells": [
  {
   "cell_type": "code",
   "execution_count": 6,
   "metadata": {
    "pycharm": {
     "name": "#%%\n"
    }
   },
   "outputs": [
    {
     "name": "stderr",
     "output_type": "stream",
     "text": [
      "/home/max/Programme/miniconda3/envs/MM_11_Decision_Trees_Exercise/lib/python3.8/site-packages/sklearn/utils/validation.py:73: DataConversionWarning: A column-vector y was passed when a 1d array was expected. Please change the shape of y to (n_samples, ), for example using ravel().\n",
      "  return f(**kwargs)\n"
     ]
    }
   ],
   "source": [
    "import pandas as pd\n",
    "import numpy as np\n",
    "\n",
    "from sklearn.tree import DecisionTreeClassifier\n",
    "from sklearn import preprocessing\n",
    "\n",
    "data = pd.read_csv(\"dataset.csv\")\n",
    "data = data.drop('REC', axis=1)\n",
    "data2 = pd.read_csv(\"dataset.csv\")\n",
    "data2 = data2.drop('REC', axis=1)\n",
    "le = preprocessing.LabelEncoder()\n",
    "le.fit([\"<=30\",\"31...40\",\">40\",\"Low\",\"Medium\",\"High\",\"Fair\",\"Excellent\",\"Yes\",\"No\"])\n",
    "data = data.values.reshape(-1,1)\n",
    "new_values = le.transform(data).reshape(-1,5)\n",
    "\n",
    "\n"
   ]
  },
  {
   "cell_type": "code",
   "execution_count": 7,
   "metadata": {
    "pycharm": {
     "name": "#%%\n"
    }
   },
   "outputs": [
    {
     "data": {
      "text/plain": [
       "DecisionTreeClassifier(max_depth=8)"
      ]
     },
     "execution_count": 7,
     "metadata": {},
     "output_type": "execute_result"
    }
   ],
   "source": [
    "X = new_values[:, 0:4] # petal length and width\n",
    "y = new_values[:, 4:5]\n",
    " \n",
    "tree_clf = DecisionTreeClassifier(max_depth=8)\n",
    "tree_clf.fit(X, y)\n"
   ]
  },
  {
   "cell_type": "code",
   "execution_count": 8,
   "metadata": {},
   "outputs": [],
   "source": [
    " from sklearn.tree import export_graphviz\n",
    " \n",
    " export_graphviz(\n",
    "         tree_clf,\n",
    "     out_file=\"/media/max/PROJECTS/coden/Data Science Modul/MM_11_Decision_Trees_Exercise/test.dot\",\n",
    "         feature_names=data2.columns.values[0:4].tolist(),\n",
    "         class_names=[\"Kaufen\", \"Nicht kaufen\"],\n",
    "         rounded=True,\n",
    "         filled=True\n",
    " )"
   ]
  },
  {
   "cell_type": "code",
   "execution_count": null,
   "metadata": {},
   "outputs": [],
   "source": []
  },
  {
   "cell_type": "code",
   "execution_count": null,
   "metadata": {},
   "outputs": [],
   "source": []
  }
 ],
 "metadata": {
  "kernelspec": {
   "display_name": "Python 3",
   "language": "python",
   "name": "python3"
  },
  "language_info": {
   "codemirror_mode": {
    "name": "ipython",
    "version": 3
   },
   "file_extension": ".py",
   "mimetype": "text/x-python",
   "name": "python",
   "nbconvert_exporter": "python",
   "pygments_lexer": "ipython3",
   "version": "3.8.3"
  }
 },
 "nbformat": 4,
 "nbformat_minor": 1
}
